{
 "cells": [
  {
   "cell_type": "markdown",
   "metadata": {},
   "source": [
    "# Prediction of Obesity Risk - Predicting\n",
    "\n",
    "## Problem Statement"
   ]
  },
  {
   "cell_type": "markdown",
   "metadata": {},
   "source": [
    "# Import Libraries"
   ]
  },
  {
   "cell_type": "code",
   "execution_count": 1,
   "metadata": {},
   "outputs": [],
   "source": [
    "import pandas as pd\n",
    "pd.set_option('display.float_format', lambda x:'%.3f' % x)\n",
    "import numpy as np\n",
    "import matplotlib.pyplot as plt\n",
    "import seaborn as sb\n",
    "# Configure default settings for plots\n",
    "sb.set(style='ticks')\n",
    "sb.set_palette('Paired')\n",
    "plt.rcParams['axes.spines.top'] = False    # Remove top border\n",
    "plt.rcParams['axes.spines.right'] = False  # Remove right border\n",
    "\n",
    "import joblib"
   ]
  },
  {
   "cell_type": "markdown",
   "metadata": {},
   "source": [
    "# Load Data"
   ]
  },
  {
   "cell_type": "code",
   "execution_count": 2,
   "metadata": {},
   "outputs": [
    {
     "name": "stdout",
     "output_type": "stream",
     "text": [
      "Dataset has 13840 rows and 17 columns\n"
     ]
    }
   ],
   "source": [
    "data = pd.read_csv('../Data/Raw/test.csv')\n",
    "print(f'Dataset has {data.shape[0]} rows and {data.shape[1]} columns')"
   ]
  },
  {
   "cell_type": "code",
   "execution_count": 19,
   "metadata": {},
   "outputs": [],
   "source": [
    "# Creating a copy of the dataset in memory in case of misediting\n",
    "df = data.copy()"
   ]
  },
  {
   "cell_type": "code",
   "execution_count": 21,
   "metadata": {},
   "outputs": [
    {
     "data": {
      "text/html": [
       "<div>\n",
       "<style scoped>\n",
       "    .dataframe tbody tr th:only-of-type {\n",
       "        vertical-align: middle;\n",
       "    }\n",
       "\n",
       "    .dataframe tbody tr th {\n",
       "        vertical-align: top;\n",
       "    }\n",
       "\n",
       "    .dataframe thead th {\n",
       "        text-align: right;\n",
       "    }\n",
       "</style>\n",
       "<table border=\"1\" class=\"dataframe\">\n",
       "  <thead>\n",
       "    <tr style=\"text-align: right;\">\n",
       "      <th></th>\n",
       "      <th>count</th>\n",
       "      <th>unique</th>\n",
       "      <th>top</th>\n",
       "      <th>freq</th>\n",
       "      <th>mean</th>\n",
       "      <th>std</th>\n",
       "      <th>min</th>\n",
       "      <th>25%</th>\n",
       "      <th>50%</th>\n",
       "      <th>75%</th>\n",
       "      <th>max</th>\n",
       "    </tr>\n",
       "  </thead>\n",
       "  <tbody>\n",
       "    <tr>\n",
       "      <th>id</th>\n",
       "      <td>13840.000</td>\n",
       "      <td>NaN</td>\n",
       "      <td>NaN</td>\n",
       "      <td>NaN</td>\n",
       "      <td>27677.500</td>\n",
       "      <td>3995.408</td>\n",
       "      <td>20758.000</td>\n",
       "      <td>24217.750</td>\n",
       "      <td>27677.500</td>\n",
       "      <td>31137.250</td>\n",
       "      <td>34597.000</td>\n",
       "    </tr>\n",
       "    <tr>\n",
       "      <th>Gender</th>\n",
       "      <td>13840</td>\n",
       "      <td>2</td>\n",
       "      <td>Female</td>\n",
       "      <td>6965</td>\n",
       "      <td>NaN</td>\n",
       "      <td>NaN</td>\n",
       "      <td>NaN</td>\n",
       "      <td>NaN</td>\n",
       "      <td>NaN</td>\n",
       "      <td>NaN</td>\n",
       "      <td>NaN</td>\n",
       "    </tr>\n",
       "    <tr>\n",
       "      <th>Age</th>\n",
       "      <td>13840.000</td>\n",
       "      <td>NaN</td>\n",
       "      <td>NaN</td>\n",
       "      <td>NaN</td>\n",
       "      <td>23.953</td>\n",
       "      <td>5.800</td>\n",
       "      <td>14.000</td>\n",
       "      <td>20.000</td>\n",
       "      <td>22.906</td>\n",
       "      <td>26.000</td>\n",
       "      <td>61.000</td>\n",
       "    </tr>\n",
       "    <tr>\n",
       "      <th>Height</th>\n",
       "      <td>13840.000</td>\n",
       "      <td>NaN</td>\n",
       "      <td>NaN</td>\n",
       "      <td>NaN</td>\n",
       "      <td>1.699</td>\n",
       "      <td>0.089</td>\n",
       "      <td>1.450</td>\n",
       "      <td>1.632</td>\n",
       "      <td>1.700</td>\n",
       "      <td>1.761</td>\n",
       "      <td>1.980</td>\n",
       "    </tr>\n",
       "    <tr>\n",
       "      <th>Weight</th>\n",
       "      <td>13840.000</td>\n",
       "      <td>NaN</td>\n",
       "      <td>NaN</td>\n",
       "      <td>NaN</td>\n",
       "      <td>87.385</td>\n",
       "      <td>26.112</td>\n",
       "      <td>39.000</td>\n",
       "      <td>65.000</td>\n",
       "      <td>83.953</td>\n",
       "      <td>111.158</td>\n",
       "      <td>165.057</td>\n",
       "    </tr>\n",
       "    <tr>\n",
       "      <th>family_history_with_overweight</th>\n",
       "      <td>13840</td>\n",
       "      <td>2</td>\n",
       "      <td>yes</td>\n",
       "      <td>11384</td>\n",
       "      <td>NaN</td>\n",
       "      <td>NaN</td>\n",
       "      <td>NaN</td>\n",
       "      <td>NaN</td>\n",
       "      <td>NaN</td>\n",
       "      <td>NaN</td>\n",
       "      <td>NaN</td>\n",
       "    </tr>\n",
       "    <tr>\n",
       "      <th>FAVC</th>\n",
       "      <td>13840</td>\n",
       "      <td>2</td>\n",
       "      <td>yes</td>\n",
       "      <td>12583</td>\n",
       "      <td>NaN</td>\n",
       "      <td>NaN</td>\n",
       "      <td>NaN</td>\n",
       "      <td>NaN</td>\n",
       "      <td>NaN</td>\n",
       "      <td>NaN</td>\n",
       "      <td>NaN</td>\n",
       "    </tr>\n",
       "    <tr>\n",
       "      <th>FCVC</th>\n",
       "      <td>13840.000</td>\n",
       "      <td>NaN</td>\n",
       "      <td>NaN</td>\n",
       "      <td>NaN</td>\n",
       "      <td>2.443</td>\n",
       "      <td>0.532</td>\n",
       "      <td>1.000</td>\n",
       "      <td>2.000</td>\n",
       "      <td>2.358</td>\n",
       "      <td>3.000</td>\n",
       "      <td>3.000</td>\n",
       "    </tr>\n",
       "    <tr>\n",
       "      <th>NCP</th>\n",
       "      <td>13840.000</td>\n",
       "      <td>NaN</td>\n",
       "      <td>NaN</td>\n",
       "      <td>NaN</td>\n",
       "      <td>2.751</td>\n",
       "      <td>0.711</td>\n",
       "      <td>1.000</td>\n",
       "      <td>3.000</td>\n",
       "      <td>3.000</td>\n",
       "      <td>3.000</td>\n",
       "      <td>4.000</td>\n",
       "    </tr>\n",
       "    <tr>\n",
       "      <th>CAEC</th>\n",
       "      <td>13840</td>\n",
       "      <td>4</td>\n",
       "      <td>Sometimes</td>\n",
       "      <td>11689</td>\n",
       "      <td>NaN</td>\n",
       "      <td>NaN</td>\n",
       "      <td>NaN</td>\n",
       "      <td>NaN</td>\n",
       "      <td>NaN</td>\n",
       "      <td>NaN</td>\n",
       "      <td>NaN</td>\n",
       "    </tr>\n",
       "    <tr>\n",
       "      <th>SMOKE</th>\n",
       "      <td>13840</td>\n",
       "      <td>2</td>\n",
       "      <td>no</td>\n",
       "      <td>13660</td>\n",
       "      <td>NaN</td>\n",
       "      <td>NaN</td>\n",
       "      <td>NaN</td>\n",
       "      <td>NaN</td>\n",
       "      <td>NaN</td>\n",
       "      <td>NaN</td>\n",
       "      <td>NaN</td>\n",
       "    </tr>\n",
       "    <tr>\n",
       "      <th>CH2O</th>\n",
       "      <td>13840.000</td>\n",
       "      <td>NaN</td>\n",
       "      <td>NaN</td>\n",
       "      <td>NaN</td>\n",
       "      <td>2.032</td>\n",
       "      <td>0.611</td>\n",
       "      <td>1.000</td>\n",
       "      <td>1.772</td>\n",
       "      <td>2.000</td>\n",
       "      <td>2.552</td>\n",
       "      <td>3.000</td>\n",
       "    </tr>\n",
       "    <tr>\n",
       "      <th>SCC</th>\n",
       "      <td>13840</td>\n",
       "      <td>2</td>\n",
       "      <td>no</td>\n",
       "      <td>13376</td>\n",
       "      <td>NaN</td>\n",
       "      <td>NaN</td>\n",
       "      <td>NaN</td>\n",
       "      <td>NaN</td>\n",
       "      <td>NaN</td>\n",
       "      <td>NaN</td>\n",
       "      <td>NaN</td>\n",
       "    </tr>\n",
       "    <tr>\n",
       "      <th>FAF</th>\n",
       "      <td>13840.000</td>\n",
       "      <td>NaN</td>\n",
       "      <td>NaN</td>\n",
       "      <td>NaN</td>\n",
       "      <td>0.975</td>\n",
       "      <td>0.840</td>\n",
       "      <td>0.000</td>\n",
       "      <td>0.001</td>\n",
       "      <td>1.000</td>\n",
       "      <td>1.572</td>\n",
       "      <td>3.000</td>\n",
       "    </tr>\n",
       "    <tr>\n",
       "      <th>TUE</th>\n",
       "      <td>13840.000</td>\n",
       "      <td>NaN</td>\n",
       "      <td>NaN</td>\n",
       "      <td>NaN</td>\n",
       "      <td>0.611</td>\n",
       "      <td>0.608</td>\n",
       "      <td>0.000</td>\n",
       "      <td>0.000</td>\n",
       "      <td>0.552</td>\n",
       "      <td>1.000</td>\n",
       "      <td>2.000</td>\n",
       "    </tr>\n",
       "    <tr>\n",
       "      <th>CALC</th>\n",
       "      <td>13840</td>\n",
       "      <td>4</td>\n",
       "      <td>Sometimes</td>\n",
       "      <td>9979</td>\n",
       "      <td>NaN</td>\n",
       "      <td>NaN</td>\n",
       "      <td>NaN</td>\n",
       "      <td>NaN</td>\n",
       "      <td>NaN</td>\n",
       "      <td>NaN</td>\n",
       "      <td>NaN</td>\n",
       "    </tr>\n",
       "    <tr>\n",
       "      <th>MTRANS</th>\n",
       "      <td>13840</td>\n",
       "      <td>5</td>\n",
       "      <td>Public_Transportation</td>\n",
       "      <td>11111</td>\n",
       "      <td>NaN</td>\n",
       "      <td>NaN</td>\n",
       "      <td>NaN</td>\n",
       "      <td>NaN</td>\n",
       "      <td>NaN</td>\n",
       "      <td>NaN</td>\n",
       "      <td>NaN</td>\n",
       "    </tr>\n",
       "  </tbody>\n",
       "</table>\n",
       "</div>"
      ],
      "text/plain": [
       "                                   count unique                    top   freq  \\\n",
       "id                             13840.000    NaN                    NaN    NaN   \n",
       "Gender                             13840      2                 Female   6965   \n",
       "Age                            13840.000    NaN                    NaN    NaN   \n",
       "Height                         13840.000    NaN                    NaN    NaN   \n",
       "Weight                         13840.000    NaN                    NaN    NaN   \n",
       "family_history_with_overweight     13840      2                    yes  11384   \n",
       "FAVC                               13840      2                    yes  12583   \n",
       "FCVC                           13840.000    NaN                    NaN    NaN   \n",
       "NCP                            13840.000    NaN                    NaN    NaN   \n",
       "CAEC                               13840      4              Sometimes  11689   \n",
       "SMOKE                              13840      2                     no  13660   \n",
       "CH2O                           13840.000    NaN                    NaN    NaN   \n",
       "SCC                                13840      2                     no  13376   \n",
       "FAF                            13840.000    NaN                    NaN    NaN   \n",
       "TUE                            13840.000    NaN                    NaN    NaN   \n",
       "CALC                               13840      4              Sometimes   9979   \n",
       "MTRANS                             13840      5  Public_Transportation  11111   \n",
       "\n",
       "                                    mean      std       min       25%  \\\n",
       "id                             27677.500 3995.408 20758.000 24217.750   \n",
       "Gender                               NaN      NaN       NaN       NaN   \n",
       "Age                               23.953    5.800    14.000    20.000   \n",
       "Height                             1.699    0.089     1.450     1.632   \n",
       "Weight                            87.385   26.112    39.000    65.000   \n",
       "family_history_with_overweight       NaN      NaN       NaN       NaN   \n",
       "FAVC                                 NaN      NaN       NaN       NaN   \n",
       "FCVC                               2.443    0.532     1.000     2.000   \n",
       "NCP                                2.751    0.711     1.000     3.000   \n",
       "CAEC                                 NaN      NaN       NaN       NaN   \n",
       "SMOKE                                NaN      NaN       NaN       NaN   \n",
       "CH2O                               2.032    0.611     1.000     1.772   \n",
       "SCC                                  NaN      NaN       NaN       NaN   \n",
       "FAF                                0.975    0.840     0.000     0.001   \n",
       "TUE                                0.611    0.608     0.000     0.000   \n",
       "CALC                                 NaN      NaN       NaN       NaN   \n",
       "MTRANS                               NaN      NaN       NaN       NaN   \n",
       "\n",
       "                                     50%       75%       max  \n",
       "id                             27677.500 31137.250 34597.000  \n",
       "Gender                               NaN       NaN       NaN  \n",
       "Age                               22.906    26.000    61.000  \n",
       "Height                             1.700     1.761     1.980  \n",
       "Weight                            83.953   111.158   165.057  \n",
       "family_history_with_overweight       NaN       NaN       NaN  \n",
       "FAVC                                 NaN       NaN       NaN  \n",
       "FCVC                               2.358     3.000     3.000  \n",
       "NCP                                3.000     3.000     4.000  \n",
       "CAEC                                 NaN       NaN       NaN  \n",
       "SMOKE                                NaN       NaN       NaN  \n",
       "CH2O                               2.000     2.552     3.000  \n",
       "SCC                                  NaN       NaN       NaN  \n",
       "FAF                                1.000     1.572     3.000  \n",
       "TUE                                0.552     1.000     2.000  \n",
       "CALC                                 NaN       NaN       NaN  \n",
       "MTRANS                               NaN       NaN       NaN  "
      ]
     },
     "execution_count": 21,
     "metadata": {},
     "output_type": "execute_result"
    }
   ],
   "source": [
    "df.describe(include='all').transpose()"
   ]
  },
  {
   "cell_type": "code",
   "execution_count": 25,
   "metadata": {},
   "outputs": [
    {
     "data": {
      "text/plain": [
       "Sometimes     9979\n",
       "no            3513\n",
       "Frequently     346\n",
       "Always           2\n",
       "Name: CALC, dtype: int64"
      ]
     },
     "execution_count": 25,
     "metadata": {},
     "output_type": "execute_result"
    }
   ],
   "source": [
    "df['CALC'].value_counts()"
   ]
  },
  {
   "cell_type": "code",
   "execution_count": 24,
   "metadata": {},
   "outputs": [
    {
     "data": {
      "image/png": "[encoded data removed]",
      "text/plain": [
       "<Figure size 640x480 with 1 Axes>"
      ]
     },
     "metadata": {},
     "output_type": "display_data"
    }
   ],
   "source": [
    "sb.countplot(data=df, x='CALC')\n",
    "plt.show()"
   ]
  },
  {
   "cell_type": "markdown",
   "metadata": {},
   "source": [
    "# Data Preprocessing"
   ]
  },
  {
   "cell_type": "code",
   "execution_count": 26,
   "metadata": {},
   "outputs": [],
   "source": [
    "df.loc[df['CALC'] == 'Always', 'CALC'] = 'Frequently'"
   ]
  },
  {
   "cell_type": "code",
   "execution_count": 27,
   "metadata": {},
   "outputs": [],
   "source": [
    "df.drop('id', axis=1, inplace=True)\n",
    "df['NCP'] = df['NCP'].round()"
   ]
  },
  {
   "cell_type": "code",
   "execution_count": 28,
   "metadata": {},
   "outputs": [
    {
     "name": "stdout",
     "output_type": "stream",
     "text": [
      "Categorical columns: 8 ['Gender', 'family_history_with_overweight', 'FAVC', 'CAEC', 'SMOKE', 'SCC', 'CALC', 'MTRANS']\n",
      "Numeric columns: 8 ['Age', 'Height', 'Weight', 'FCVC', 'NCP', 'CH2O', 'FAF', 'TUE']\n"
     ]
    }
   ],
   "source": [
    "# Create lists for categorical and numeric columns\n",
    "cat_cols = []\n",
    "num_cols = []\n",
    "\n",
    "for column in df.columns:\n",
    "    if pd.api.types.is_numeric_dtype(df[column]):\n",
    "        num_cols.append(column)\n",
    "    elif pd.api.types.is_object_dtype(df[column]):\n",
    "        cat_cols.append(column)\n",
    "        \n",
    "print(f'Categorical columns: {len(cat_cols)}', cat_cols)\n",
    "print(f'Numeric columns: {len(num_cols)}', num_cols)"
   ]
  },
  {
   "cell_type": "code",
   "execution_count": 16,
   "metadata": {},
   "outputs": [],
   "source": [
    "from sklearn.compose import ColumnTransformer\n",
    "from sklearn.preprocessing import OneHotEncoder"
   ]
  },
  {
   "cell_type": "markdown",
   "metadata": {},
   "source": [
    "## Transform Data"
   ]
  },
  {
   "cell_type": "code",
   "execution_count": 29,
   "metadata": {},
   "outputs": [
    {
     "data": {
      "text/plain": [
       "array([[ 0.50816334,  1.68278868,  1.27378625, ...,  0.        ,\n",
       "         1.        ,  0.        ],\n",
       "       [-0.50912784, -1.11465762, -0.81898841, ...,  0.        ,\n",
       "         1.        ,  0.        ],\n",
       "       [ 0.35299999, -0.62619119,  0.92743153, ...,  0.        ,\n",
       "         1.        ,  0.        ],\n",
       "       ...,\n",
       "       [-0.17537884, -1.27749479, -1.64712469, ...,  0.        ,\n",
       "         1.        ,  0.        ],\n",
       "       [-0.50912784, -0.88932424, -1.31686525, ...,  0.        ,\n",
       "         1.        ,  0.        ],\n",
       "       [ 0.43764818,  1.27679426,  1.28666709, ...,  0.        ,\n",
       "         1.        ,  0.        ]])"
      ]
     },
     "execution_count": 29,
     "metadata": {},
     "output_type": "execute_result"
    }
   ],
   "source": [
    "# Define transformers for different column types\n",
    "\n",
    "numerical_transformer = joblib.load('../Models/scaler.joblib') \n",
    "categorical_transformer = OneHotEncoder(drop='first', sparse_output=False)\n",
    "\n",
    "# Combine transformers for specific columns\n",
    "preprocessor = ColumnTransformer([\n",
    "    (\"num\", numerical_transformer, num_cols),\n",
    "    (\"cat\", categorical_transformer, cat_cols)\n",
    "])\n",
    "\n",
    "# Fit transformers on training data only\n",
    "df_transformed = preprocessor.fit_transform(df)\n",
    "df_transformed"
   ]
  },
  {
   "cell_type": "code",
   "execution_count": 30,
   "metadata": {},
   "outputs": [
    {
     "data": {
      "text/plain": [
       "(13840, 22)"
      ]
     },
     "execution_count": 30,
     "metadata": {},
     "output_type": "execute_result"
    }
   ],
   "source": [
    "df_transformed.shape"
   ]
  },
  {
   "cell_type": "code",
   "execution_count": 31,
   "metadata": {},
   "outputs": [],
   "source": [
    "model = joblib.load('../Models/trained_model.joblib')"
   ]
  },
  {
   "cell_type": "code",
   "execution_count": 32,
   "metadata": {},
   "outputs": [
    {
     "data": {
      "text/plain": [
       "array([3, 5, 4, ..., 0, 1, 3])"
      ]
     },
     "execution_count": 32,
     "metadata": {},
     "output_type": "execute_result"
    }
   ],
   "source": [
    "y_hat = model.predict(df_transformed)\n",
    "y_hat"
   ]
  },
  {
   "cell_type": "code",
   "execution_count": 45,
   "metadata": {},
   "outputs": [],
   "source": [
    "df_sub = pd.DataFrame()\n",
    "df_sub['id'] = data['id']"
   ]
  },
  {
   "cell_type": "code",
   "execution_count": 47,
   "metadata": {},
   "outputs": [
    {
     "data": {
      "text/html": [
       "<div>\n",
       "<style scoped>\n",
       "    .dataframe tbody tr th:only-of-type {\n",
       "        vertical-align: middle;\n",
       "    }\n",
       "\n",
       "    .dataframe tbody tr th {\n",
       "        vertical-align: top;\n",
       "    }\n",
       "\n",
       "    .dataframe thead th {\n",
       "        text-align: right;\n",
       "    }\n",
       "</style>\n",
       "<table border=\"1\" class=\"dataframe\">\n",
       "  <thead>\n",
       "    <tr style=\"text-align: right;\">\n",
       "      <th></th>\n",
       "      <th>id</th>\n",
       "      <th>NObeyesdad_Encoded</th>\n",
       "    </tr>\n",
       "  </thead>\n",
       "  <tbody>\n",
       "    <tr>\n",
       "      <th>0</th>\n",
       "      <td>20758</td>\n",
       "      <td>3</td>\n",
       "    </tr>\n",
       "    <tr>\n",
       "      <th>1</th>\n",
       "      <td>20759</td>\n",
       "      <td>5</td>\n",
       "    </tr>\n",
       "    <tr>\n",
       "      <th>2</th>\n",
       "      <td>20760</td>\n",
       "      <td>4</td>\n",
       "    </tr>\n",
       "    <tr>\n",
       "      <th>3</th>\n",
       "      <td>20761</td>\n",
       "      <td>2</td>\n",
       "    </tr>\n",
       "    <tr>\n",
       "      <th>4</th>\n",
       "      <td>20762</td>\n",
       "      <td>4</td>\n",
       "    </tr>\n",
       "  </tbody>\n",
       "</table>\n",
       "</div>"
      ],
      "text/plain": [
       "      id  NObeyesdad_Encoded\n",
       "0  20758                   3\n",
       "1  20759                   5\n",
       "2  20760                   4\n",
       "3  20761                   2\n",
       "4  20762                   4"
      ]
     },
     "execution_count": 47,
     "metadata": {},
     "output_type": "execute_result"
    }
   ],
   "source": [
    "df_sub['NObeyesdad_Encoded'] = pd.Series(y_hat)\n",
    "df_sub.head()"
   ]
  },
  {
   "cell_type": "code",
   "execution_count": 48,
   "metadata": {},
   "outputs": [],
   "source": [
    "lbl_encoder = joblib.load('../Models/label_encoder.joblib')\n",
    "original_categories = lbl_encoder.inverse_transform(df_sub['NObeyesdad_Encoded'])"
   ]
  },
  {
   "cell_type": "code",
   "execution_count": 49,
   "metadata": {},
   "outputs": [
    {
     "data": {
      "text/plain": [
       "array(['Obesity_Type_II', 'Overweight_Level_I', 'Obesity_Type_III', ...,\n",
       "       'Insufficient_Weight', 'Normal_Weight', 'Obesity_Type_II'],\n",
       "      dtype=object)"
      ]
     },
     "execution_count": 49,
     "metadata": {},
     "output_type": "execute_result"
    }
   ],
   "source": [
    "original_categories"
   ]
  },
  {
   "cell_type": "code",
   "execution_count": 50,
   "metadata": {},
   "outputs": [
    {
     "data": {
      "text/html": [
       "<div>\n",
       "<style scoped>\n",
       "    .dataframe tbody tr th:only-of-type {\n",
       "        vertical-align: middle;\n",
       "    }\n",
       "\n",
       "    .dataframe tbody tr th {\n",
       "        vertical-align: top;\n",
       "    }\n",
       "\n",
       "    .dataframe thead th {\n",
       "        text-align: right;\n",
       "    }\n",
       "</style>\n",
       "<table border=\"1\" class=\"dataframe\">\n",
       "  <thead>\n",
       "    <tr style=\"text-align: right;\">\n",
       "      <th></th>\n",
       "      <th>id</th>\n",
       "      <th>NObeyesdad_Encoded</th>\n",
       "      <th>NObeyesdad</th>\n",
       "    </tr>\n",
       "  </thead>\n",
       "  <tbody>\n",
       "    <tr>\n",
       "      <th>0</th>\n",
       "      <td>20758</td>\n",
       "      <td>3</td>\n",
       "      <td>Obesity_Type_II</td>\n",
       "    </tr>\n",
       "    <tr>\n",
       "      <th>1</th>\n",
       "      <td>20759</td>\n",
       "      <td>5</td>\n",
       "      <td>Overweight_Level_I</td>\n",
       "    </tr>\n",
       "    <tr>\n",
       "      <th>2</th>\n",
       "      <td>20760</td>\n",
       "      <td>4</td>\n",
       "      <td>Obesity_Type_III</td>\n",
       "    </tr>\n",
       "    <tr>\n",
       "      <th>3</th>\n",
       "      <td>20761</td>\n",
       "      <td>2</td>\n",
       "      <td>Obesity_Type_I</td>\n",
       "    </tr>\n",
       "    <tr>\n",
       "      <th>4</th>\n",
       "      <td>20762</td>\n",
       "      <td>4</td>\n",
       "      <td>Obesity_Type_III</td>\n",
       "    </tr>\n",
       "  </tbody>\n",
       "</table>\n",
       "</div>"
      ],
      "text/plain": [
       "      id  NObeyesdad_Encoded          NObeyesdad\n",
       "0  20758                   3     Obesity_Type_II\n",
       "1  20759                   5  Overweight_Level_I\n",
       "2  20760                   4    Obesity_Type_III\n",
       "3  20761                   2      Obesity_Type_I\n",
       "4  20762                   4    Obesity_Type_III"
      ]
     },
     "execution_count": 50,
     "metadata": {},
     "output_type": "execute_result"
    }
   ],
   "source": [
    "df_sub['NObeyesdad'] = pd.Series(original_categories)\n",
    "df_sub.head()"
   ]
  },
  {
   "cell_type": "code",
   "execution_count": 51,
   "metadata": {},
   "outputs": [],
   "source": [
    "df_sub.drop('NObeyesdad_Encoded', axis=1, inplace=True)\n",
    "df_sub.to_csv('../Data/Final/submission.csv', index=False)"
   ]
  },
  {
   "cell_type": "code",
   "execution_count": null,
   "metadata": {},
   "outputs": [],
   "source": []
  }
 ],
 "metadata": {
  "kernelspec": {
   "display_name": "cloneTF2",
   "language": "python",
   "name": "python3"
  },
  "language_info": {
   "codemirror_mode": {
    "name": "ipython",
    "version": 3
   },
   "file_extension": ".py",
   "mimetype": "text/x-python",
   "name": "python",
   "nbconvert_exporter": "python",
   "pygments_lexer": "ipython3",
   "version": "3.10.13"
  }
 },
 "nbformat": 4,
 "nbformat_minor": 2
}
