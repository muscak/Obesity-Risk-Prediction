{
 "cells": [
  {
   "cell_type": "markdown",
   "metadata": {},
   "source": [
    "# Prediction of Obesity Risk - Modelling\n",
    "\n",
    "## Problem Statement"
   ]
  },
  {
   "cell_type": "markdown",
   "metadata": {},
   "source": [
    "# Import Libraries"
   ]
  },
  {
   "cell_type": "code",
   "execution_count": 1,
   "metadata": {},
   "outputs": [],
   "source": [
    "import pandas as pd\n",
    "pd.set_option('display.float_format', lambda x:'%.3f' % x)\n",
    "import numpy as nb\n",
    "import matplotlib.pyplot as plt\n",
    "import seaborn as sb\n",
    "# Configure default settings for plots\n",
    "sb.set(style='ticks')\n",
    "sb.set_palette('Paired')\n",
    "plt.rcParams['axes.spines.top'] = False    # Remove top border\n",
    "plt.rcParams['axes.spines.right'] = False  # Remove right border"
   ]
  },
  {
   "cell_type": "markdown",
   "metadata": {},
   "source": [
    "# Load Data"
   ]
  },
  {
   "cell_type": "code",
   "execution_count": 57,
   "metadata": {},
   "outputs": [
    {
     "name": "stdout",
     "output_type": "stream",
     "text": [
      "Dataset has 20758 rows and 17 columns\n"
     ]
    }
   ],
   "source": [
    "data = pd.read_csv('../Data/Processed/processed_with_outliers.csv')\n",
    "print(f'Dataset has {data.shape[0]} rows and {data.shape[1]} columns')"
   ]
  },
  {
   "cell_type": "code",
   "execution_count": 58,
   "metadata": {},
   "outputs": [],
   "source": [
    "# Creating a copy of the dataset in memory in case of misediting\n",
    "df = data.copy()"
   ]
  },
  {
   "cell_type": "markdown",
   "metadata": {},
   "source": [
    "# Data Preprocessing"
   ]
  },
  {
   "cell_type": "code",
   "execution_count": 59,
   "metadata": {},
   "outputs": [
    {
     "name": "stdout",
     "output_type": "stream",
     "text": [
      "Categorical columns: 9 ['Gender', 'family_history_with_overweight', 'FAVC', 'CAEC', 'SMOKE', 'SCC', 'CALC', 'MTRANS', 'NObeyesdad']\n",
      "Numeric columns: 8 ['Age', 'Height', 'Weight', 'FCVC', 'NCP', 'CH2O', 'FAF', 'TUE']\n"
     ]
    }
   ],
   "source": [
    "# Create lists for categorical and numeric columns\n",
    "cat_cols = []\n",
    "num_cols = []\n",
    "\n",
    "for column in df.columns:\n",
    "    if pd.api.types.is_numeric_dtype(df[column]):\n",
    "        num_cols.append(column)\n",
    "    elif pd.api.types.is_object_dtype(df[column]):\n",
    "        cat_cols.append(column)\n",
    "        \n",
    "print(f'Categorical columns: {len(cat_cols)}', cat_cols)\n",
    "print(f'Numeric columns: {len(num_cols)}', num_cols)"
   ]
  },
  {
   "cell_type": "code",
   "execution_count": 60,
   "metadata": {},
   "outputs": [
    {
     "name": "stdout",
     "output_type": "stream",
     "text": [
      "['Gender', 'family_history_with_overweight', 'FAVC', 'CAEC', 'SMOKE', 'SCC', 'CALC', 'MTRANS']\n",
      "['Gender', 'family_history_with_overweight', 'FAVC', 'CAEC', 'SMOKE', 'SCC', 'CALC', 'MTRANS', 'NObeyesdad']\n"
     ]
    }
   ],
   "source": [
    "cat_features = cat_cols[:-1]\n",
    "print(cat_features)\n",
    "print(cat_cols)"
   ]
  },
  {
   "cell_type": "code",
   "execution_count": 61,
   "metadata": {},
   "outputs": [],
   "source": [
    "from sklearn.preprocessing import LabelEncoder"
   ]
  },
  {
   "cell_type": "code",
   "execution_count": 62,
   "metadata": {},
   "outputs": [
    {
     "data": {
      "text/plain": [
       "4    4046\n",
       "3    3248\n",
       "1    3082\n",
       "2    2910\n",
       "0    2523\n",
       "6    2522\n",
       "5    2427\n",
       "Name: NObeyesdad, dtype: int64"
      ]
     },
     "execution_count": 62,
     "metadata": {},
     "output_type": "execute_result"
    }
   ],
   "source": [
    "lbl_encoder = LabelEncoder()\n",
    "df['NObeyesdad'] = lbl_encoder.fit_transform(df['NObeyesdad'])\n",
    "df['NObeyesdad'].value_counts()"
   ]
  },
  {
   "cell_type": "code",
   "execution_count": 63,
   "metadata": {},
   "outputs": [
    {
     "name": "stdout",
     "output_type": "stream",
     "text": [
      "<class 'pandas.core.frame.DataFrame'>\n",
      "RangeIndex: 20758 entries, 0 to 20757\n",
      "Data columns (total 17 columns):\n",
      " #   Column                          Non-Null Count  Dtype  \n",
      "---  ------                          --------------  -----  \n",
      " 0   Gender                          20758 non-null  object \n",
      " 1   Age                             20758 non-null  float64\n",
      " 2   Height                          20758 non-null  float64\n",
      " 3   Weight                          20758 non-null  float64\n",
      " 4   family_history_with_overweight  20758 non-null  object \n",
      " 5   FAVC                            20758 non-null  object \n",
      " 6   FCVC                            20758 non-null  float64\n",
      " 7   NCP                             20758 non-null  float64\n",
      " 8   CAEC                            20758 non-null  object \n",
      " 9   SMOKE                           20758 non-null  object \n",
      " 10  CH2O                            20758 non-null  float64\n",
      " 11  SCC                             20758 non-null  object \n",
      " 12  FAF                             20758 non-null  float64\n",
      " 13  TUE                             20758 non-null  float64\n",
      " 14  CALC                            20758 non-null  object \n",
      " 15  MTRANS                          20758 non-null  object \n",
      " 16  NObeyesdad                      20758 non-null  int64  \n",
      "dtypes: float64(8), int64(1), object(8)\n",
      "memory usage: 2.7+ MB\n"
     ]
    }
   ],
   "source": [
    "df.info()"
   ]
  },
  {
   "cell_type": "code",
   "execution_count": 53,
   "metadata": {},
   "outputs": [],
   "source": [
    "from sklearn.model_selection import train_test_split\n",
    "from sklearn.compose import ColumnTransformer\n",
    "from sklearn.preprocessing import StandardScaler, OneHotEncoder"
   ]
  },
  {
   "cell_type": "markdown",
   "metadata": {},
   "source": [
    "## Split the Dataset"
   ]
  },
  {
   "cell_type": "code",
   "execution_count": 64,
   "metadata": {},
   "outputs": [],
   "source": [
    "x = df.drop('NObeyesdad', axis=1)\n",
    "y = df['NObeyesdad']\n",
    "\n",
    "x_train, x_test, y_train, y_test = train_test_split(x, y, test_size=0.2, stratify=y)"
   ]
  },
  {
   "cell_type": "markdown",
   "metadata": {},
   "source": [
    "## Transform Data"
   ]
  },
  {
   "cell_type": "code",
   "execution_count": 71,
   "metadata": {},
   "outputs": [
    {
     "name": "stderr",
     "output_type": "stream",
     "text": [
      "/opt/anaconda3/envs/cloneTF2/lib/python3.10/site-packages/sklearn/preprocessing/_encoders.py:828: FutureWarning: `sparse` was renamed to `sparse_output` in version 1.2 and will be removed in 1.4. `sparse_output` is ignored unless you leave `sparse` to its default value.\n",
      "  warnings.warn(\n"
     ]
    }
   ],
   "source": [
    "# Define transformers for different column types\n",
    "numerical_transformer = StandardScaler()\n",
    "categorical_transformer = OneHotEncoder(drop='first', sparse_output=False)\n",
    "\n",
    "# Combine transformers for specific columns\n",
    "preprocessor = ColumnTransformer([\n",
    "    (\"num\", numerical_transformer, num_cols),\n",
    "    (\"cat\", categorical_transformer, cat_features)\n",
    "])\n",
    "\n",
    "# Fit transformers on training data only\n",
    "preprocessor.fit(x_train)\n",
    "\n",
    "# Transform train and test data using fitted transformers\n",
    "x_train_transformed = preprocessor.transform(x_train)\n",
    "x_test_transformed = preprocessor.transform(x_test)\n"
   ]
  },
  {
   "cell_type": "markdown",
   "metadata": {},
   "source": [
    "# Evaluating Different Algorithms\n",
    "\n",
    "In this section we'll evaluate non-linear and ensemble algorithms using k-fold cross validation."
   ]
  },
  {
   "cell_type": "code",
   "execution_count": 29,
   "metadata": {},
   "outputs": [],
   "source": [
    "from sklearn.model_selection import KFold\n",
    "from sklearn.model_selection import cross_validate"
   ]
  },
  {
   "cell_type": "code",
   "execution_count": 46,
   "metadata": {},
   "outputs": [],
   "source": [
    "def model_evaluation(x, y, models):\n",
    "    '''\n",
    "        This function takes x, y and models and applies \n",
    "        k-fold cross validation to the each algorithm in \n",
    "        the models list by using x and y training set. \n",
    "        Displays the mean and standard deviation of \n",
    "        accuracy, precision, recall, f1 scores in tabular\n",
    "        format and boxplots.\n",
    "\n",
    "        ---\n",
    "        ### Parameters\n",
    "        - x <array>: Feature values.\n",
    "        - y <array>: Target values.\n",
    "        - models <list>: List of the model objects to be vealuated.\n",
    "    '''\n",
    "    \n",
    "    names = []\n",
    "    scoring = ['accuracy']\n",
    "    \n",
    "    # Create a dataframe to store the different metric values for each algorithm\n",
    "    df_results = pd.DataFrame(columns=['Algorithm', 'Acc Mean', 'Acc STD'])\n",
    "    results_acc = [] # List of accuracy scores for each fold of each algorithm\n",
    "    \n",
    "    for name, model in models:\n",
    "        names.append(name)\n",
    "        kfold = KFold(n_splits=10, shuffle=True, random_state=101)\n",
    "        result = cross_validate(model, x, y, cv=kfold, scoring=scoring)\n",
    "    \n",
    "        # Mean and standard deviation of Accuracy scores for the algorithm\n",
    "        acc_mean = result['test_accuracy'].mean()\n",
    "        acc_std = result['test_accuracy'].std()\n",
    "        \n",
    "        # Create the row of the results\n",
    "        df_result_row = {'Algorithm': name, 'Acc Mean': acc_mean, 'Acc STD': acc_std}\n",
    "        # Add the row to the results data frame\n",
    "        df_results = pd.concat([df_results, pd.DataFrame([df_result_row])], ignore_index=True)\n",
    "        \n",
    "        results_acc.append(result['test_accuracy'])\n",
    "        \n",
    "    df_results = df_results.set_index('Algorithm')\n",
    "    pd.set_option('display.float_format', lambda x: '%.3f' % x)\n",
    "    # Display the mean and standard deviation of all metrics for all algorithms\n",
    "    print(df_results)\n",
    "    \n",
    "    # Display the overall results in a boxplot graph\n",
    "    width = (len(models)*2)\n",
    "    plot_objects = plt.subplots(nrows=1, ncols=1, figsize=(width, 6))\n",
    "    fig, ax = plot_objects\n",
    "    \n",
    "    ax.boxplot(results_acc)\n",
    "    ax.set_title('Accuracy', fontsize=14)\n",
    "    ax.set_xticklabels(names, rotation=30)\n",
    "    plt.tight_layout()\n",
    "    plt.show()"
   ]
  },
  {
   "cell_type": "code",
   "execution_count": 31,
   "metadata": {},
   "outputs": [],
   "source": [
    "from sklearn.ensemble import RandomForestClassifier\n",
    "from sklearn.ensemble import AdaBoostClassifier\n",
    "from sklearn.ensemble import GradientBoostingClassifier"
   ]
  },
  {
   "cell_type": "code",
   "execution_count": 32,
   "metadata": {},
   "outputs": [],
   "source": [
    "ens_models = []\n",
    "ens_models.append(('RFC', RandomForestClassifier()))\n",
    "ens_models.append(('ABC', AdaBoostClassifier()))\n",
    "ens_models.append(('GBC', GradientBoostingClassifier()))"
   ]
  },
  {
   "cell_type": "code",
   "execution_count": 73,
   "metadata": {},
   "outputs": [
    {
     "name": "stdout",
     "output_type": "stream",
     "text": [
      "           Acc Mean  Acc STD\n",
      "Algorithm                   \n",
      "RFC           0.892    0.009\n",
      "ABC           0.437    0.067\n",
      "GBC           0.906    0.006\n"
     ]
    },
    {
     "data": {
      "image/png": "[encoded data removed]",
      "text/plain": [
       "<Figure size 600x600 with 1 Axes>"
      ]
     },
     "metadata": {},
     "output_type": "display_data"
    }
   ],
   "source": [
    "model_evaluation(x_train_transformed, y_train, ens_models)"
   ]
  },
  {
   "cell_type": "code",
   "execution_count": 42,
   "metadata": {},
   "outputs": [],
   "source": [
    "from sklearn.svm import SVC\n",
    "from sklearn.tree import DecisionTreeClassifier\n",
    "from sklearn.neighbors import KNeighborsClassifier\n",
    "from sklearn.naive_bayes import GaussianNB"
   ]
  },
  {
   "cell_type": "code",
   "execution_count": 74,
   "metadata": {},
   "outputs": [
    {
     "name": "stdout",
     "output_type": "stream",
     "text": [
      "           Acc Mean  Acc STD\n",
      "Algorithm                   \n",
      "SVC           0.877    0.005\n",
      "DTC           0.847    0.008\n",
      "KNN           0.755    0.009\n",
      "GNB           0.614    0.012\n"
     ]
    },
    {
     "data": {
      "image/png": "[encoded data removed]",
      "text/plain": [
       "<Figure size 800x600 with 1 Axes>"
      ]
     },
     "metadata": {},
     "output_type": "display_data"
    }
   ],
   "source": [
    "nl_models = []\n",
    "nl_models.append(('SVC', SVC()))\n",
    "nl_models.append(('DTC', DecisionTreeClassifier()))\n",
    "nl_models.append(('KNN', KNeighborsClassifier()))\n",
    "nl_models.append(('GNB', GaussianNB()))\n",
    "\n",
    "model_evaluation(x_train_transformed, y_train, nl_models)"
   ]
  },
  {
   "cell_type": "code",
   "execution_count": null,
   "metadata": {},
   "outputs": [],
   "source": []
  },
  {
   "cell_type": "code",
   "execution_count": null,
   "metadata": {},
   "outputs": [],
   "source": []
  },
  {
   "cell_type": "markdown",
   "metadata": {},
   "source": [
    "# Next Steps\n",
    "\n",
    "- Modelling"
   ]
  },
  {
   "cell_type": "markdown",
   "metadata": {},
   "source": []
  }
 ],
 "metadata": {
  "kernelspec": {
   "display_name": "cloneTF2",
   "language": "python",
   "name": "python3"
  },
  "language_info": {
   "codemirror_mode": {
    "name": "ipython",
    "version": 3
   },
   "file_extension": ".py",
   "mimetype": "text/x-python",
   "name": "python",
   "nbconvert_exporter": "python",
   "pygments_lexer": "ipython3",
   "version": "3.10.11"
  }
 },
 "nbformat": 4,
 "nbformat_minor": 2
}
